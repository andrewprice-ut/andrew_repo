{
 "cells": [
  {
   "cell_type": "code",
   "execution_count": 11,
   "metadata": {
    "collapsed": true
   },
   "outputs": [],
   "source": [
    "# Dependencies\n",
    "import json\n",
    "from numpy import random\n",
    "import requests\n",
    "import matplotlib.pyplot as plt\n",
    "import pandas as pd\n",
    "import numpy as np\n",
    "from citipy import citipy\n",
    "from config import openweather_key"
   ]
  },
  {
   "cell_type": "code",
   "execution_count": 12,
   "metadata": {
    "collapsed": true
   },
   "outputs": [],
   "source": [
    "lat = np.random.uniform(low=-90.000, high=90.000, size=1500)\n",
    "lon = np.random.uniform(low=-180.000, high=180.000, size=1500)"
   ]
  },
  {
   "cell_type": "code",
   "execution_count": 13,
   "metadata": {
    "collapsed": true
   },
   "outputs": [],
   "source": [
    "coords = {\"Lat\": lat, \"Lng\": lon}\n",
    "df = pd.DataFrame(coords)"
   ]
  },
  {
   "cell_type": "code",
   "execution_count": 14,
   "metadata": {
    "scrolled": true
   },
   "outputs": [
    {
     "data": {
      "text/html": [
       "<div>\n",
       "<style>\n",
       "    .dataframe thead tr:only-child th {\n",
       "        text-align: right;\n",
       "    }\n",
       "\n",
       "    .dataframe thead th {\n",
       "        text-align: left;\n",
       "    }\n",
       "\n",
       "    .dataframe tbody tr th {\n",
       "        vertical-align: top;\n",
       "    }\n",
       "</style>\n",
       "<table border=\"1\" class=\"dataframe\">\n",
       "  <thead>\n",
       "    <tr style=\"text-align: right;\">\n",
       "      <th></th>\n",
       "      <th>Lat</th>\n",
       "      <th>Lng</th>\n",
       "    </tr>\n",
       "  </thead>\n",
       "  <tbody>\n",
       "    <tr>\n",
       "      <th>422</th>\n",
       "      <td>-74.275300</td>\n",
       "      <td>-93.193371</td>\n",
       "    </tr>\n",
       "    <tr>\n",
       "      <th>756</th>\n",
       "      <td>-11.179222</td>\n",
       "      <td>28.326064</td>\n",
       "    </tr>\n",
       "    <tr>\n",
       "      <th>1225</th>\n",
       "      <td>-4.143961</td>\n",
       "      <td>2.975275</td>\n",
       "    </tr>\n",
       "    <tr>\n",
       "      <th>1433</th>\n",
       "      <td>-88.910945</td>\n",
       "      <td>-92.555193</td>\n",
       "    </tr>\n",
       "    <tr>\n",
       "      <th>1059</th>\n",
       "      <td>-46.090121</td>\n",
       "      <td>-114.734815</td>\n",
       "    </tr>\n",
       "  </tbody>\n",
       "</table>\n",
       "</div>"
      ],
      "text/plain": [
       "            Lat         Lng\n",
       "422  -74.275300  -93.193371\n",
       "756  -11.179222   28.326064\n",
       "1225  -4.143961    2.975275\n",
       "1433 -88.910945  -92.555193\n",
       "1059 -46.090121 -114.734815"
      ]
     },
     "execution_count": 14,
     "metadata": {},
     "output_type": "execute_result"
    }
   ],
   "source": [
    "new_df = df.sample(n=15)\n",
    "new_df.head()"
   ]
  },
  {
   "cell_type": "code",
   "execution_count": 15,
   "metadata": {},
   "outputs": [
    {
     "data": {
      "text/html": [
       "<div>\n",
       "<style>\n",
       "    .dataframe thead tr:only-child th {\n",
       "        text-align: right;\n",
       "    }\n",
       "\n",
       "    .dataframe thead th {\n",
       "        text-align: left;\n",
       "    }\n",
       "\n",
       "    .dataframe tbody tr th {\n",
       "        vertical-align: top;\n",
       "    }\n",
       "</style>\n",
       "<table border=\"1\" class=\"dataframe\">\n",
       "  <thead>\n",
       "    <tr style=\"text-align: right;\">\n",
       "      <th></th>\n",
       "      <th>Lat</th>\n",
       "      <th>Lng</th>\n",
       "    </tr>\n",
       "  </thead>\n",
       "  <tbody>\n",
       "    <tr>\n",
       "      <th>0</th>\n",
       "      <td>-74.275300</td>\n",
       "      <td>-93.193371</td>\n",
       "    </tr>\n",
       "    <tr>\n",
       "      <th>1</th>\n",
       "      <td>-11.179222</td>\n",
       "      <td>28.326064</td>\n",
       "    </tr>\n",
       "    <tr>\n",
       "      <th>2</th>\n",
       "      <td>-4.143961</td>\n",
       "      <td>2.975275</td>\n",
       "    </tr>\n",
       "    <tr>\n",
       "      <th>3</th>\n",
       "      <td>-88.910945</td>\n",
       "      <td>-92.555193</td>\n",
       "    </tr>\n",
       "    <tr>\n",
       "      <th>4</th>\n",
       "      <td>-46.090121</td>\n",
       "      <td>-114.734815</td>\n",
       "    </tr>\n",
       "  </tbody>\n",
       "</table>\n",
       "</div>"
      ],
      "text/plain": [
       "         Lat         Lng\n",
       "0 -74.275300  -93.193371\n",
       "1 -11.179222   28.326064\n",
       "2  -4.143961    2.975275\n",
       "3 -88.910945  -92.555193\n",
       "4 -46.090121 -114.734815"
      ]
     },
     "execution_count": 15,
     "metadata": {},
     "output_type": "execute_result"
    }
   ],
   "source": [
    "new_df = new_df.reset_index(drop=True)\n",
    "new_df.head()"
   ]
  },
  {
   "cell_type": "code",
   "execution_count": 16,
   "metadata": {},
   "outputs": [
    {
     "data": {
      "text/plain": [
       "((-74.275300121217157, -93.193370986615889),\n",
       " (-11.179222385108687, 28.326064364983807),\n",
       " (-4.1439610954130757, 2.9752753578886484),\n",
       " (-88.910945352665976, -92.55519318957181),\n",
       " (-46.090121016095253, -114.73481513679735),\n",
       " (32.017375137410909, -100.04180172320022),\n",
       " (-6.2589420184359028, 136.76082544978112),\n",
       " (-5.2108796731032356, 63.594251358776063),\n",
       " (-18.491976578857162, 119.12522823658725),\n",
       " (-34.898312834191096, -116.86226932324479),\n",
       " (41.091937704940904, -3.6306314013070278),\n",
       " (-65.298072588773934, -160.00753366856026),\n",
       " (8.1130429207303649, 64.074250409099022),\n",
       " (-78.389379945468676, -120.3126030645229),\n",
       " (-47.716473045377576, 71.176619912361872))"
      ]
     },
     "execution_count": 16,
     "metadata": {},
     "output_type": "execute_result"
    }
   ],
   "source": [
    "coordinates = tuple(zip(new_df[\"Lat\"], new_df[\"Lng\"]))\n",
    "coordinates"
   ]
  },
  {
   "cell_type": "code",
   "execution_count": 17,
   "metadata": {
    "collapsed": true
   },
   "outputs": [],
   "source": [
    "cities = []\n",
    "city_name = []\n",
    "for coordinate_pair in coordinates:\n",
    "    lat, lon = coordinate_pair\n",
    "    cities.append(citipy.nearest_city(lat, lon))\n",
    "\n",
    "for city in cities:\n",
    "    country_code = city.country_code\n",
    "    name = city.city_name\n",
    "    city_name.append(name)"
   ]
  },
  {
   "cell_type": "code",
   "execution_count": 18,
   "metadata": {},
   "outputs": [
    {
     "data": {
      "text/html": [
       "<div>\n",
       "<style>\n",
       "    .dataframe thead tr:only-child th {\n",
       "        text-align: right;\n",
       "    }\n",
       "\n",
       "    .dataframe thead th {\n",
       "        text-align: left;\n",
       "    }\n",
       "\n",
       "    .dataframe tbody tr th {\n",
       "        vertical-align: top;\n",
       "    }\n",
       "</style>\n",
       "<table border=\"1\" class=\"dataframe\">\n",
       "  <thead>\n",
       "    <tr style=\"text-align: right;\">\n",
       "      <th></th>\n",
       "      <th>Lat</th>\n",
       "      <th>Lng</th>\n",
       "      <th>City_Name</th>\n",
       "    </tr>\n",
       "  </thead>\n",
       "  <tbody>\n",
       "    <tr>\n",
       "      <th>0</th>\n",
       "      <td>-74.275300</td>\n",
       "      <td>-93.193371</td>\n",
       "      <td>punta arenas</td>\n",
       "    </tr>\n",
       "    <tr>\n",
       "      <th>1</th>\n",
       "      <td>-11.179222</td>\n",
       "      <td>28.326064</td>\n",
       "      <td>mansa</td>\n",
       "    </tr>\n",
       "    <tr>\n",
       "      <th>2</th>\n",
       "      <td>-4.143961</td>\n",
       "      <td>2.975275</td>\n",
       "      <td>port-gentil</td>\n",
       "    </tr>\n",
       "    <tr>\n",
       "      <th>3</th>\n",
       "      <td>-88.910945</td>\n",
       "      <td>-92.555193</td>\n",
       "      <td>punta arenas</td>\n",
       "    </tr>\n",
       "    <tr>\n",
       "      <th>4</th>\n",
       "      <td>-46.090121</td>\n",
       "      <td>-114.734815</td>\n",
       "      <td>rikitea</td>\n",
       "    </tr>\n",
       "  </tbody>\n",
       "</table>\n",
       "</div>"
      ],
      "text/plain": [
       "         Lat         Lng     City_Name\n",
       "0 -74.275300  -93.193371  punta arenas\n",
       "1 -11.179222   28.326064         mansa\n",
       "2  -4.143961    2.975275   port-gentil\n",
       "3 -88.910945  -92.555193  punta arenas\n",
       "4 -46.090121 -114.734815       rikitea"
      ]
     },
     "execution_count": 18,
     "metadata": {},
     "output_type": "execute_result"
    }
   ],
   "source": [
    "new_df[\"City_Name\"] = city_name\n",
    "new_df.head()"
   ]
  },
  {
   "cell_type": "code",
   "execution_count": 19,
   "metadata": {
    "collapsed": true
   },
   "outputs": [],
   "source": [
    "# OpenWeather config info\n",
    "url = \"http://api.openweathermap.org/data/2.5/weather?\"\n",
    "units = \"imperial\""
   ]
  },
  {
   "cell_type": "code",
   "execution_count": 20,
   "metadata": {},
   "outputs": [
    {
     "name": "stdout",
     "output_type": "stream",
     "text": [
      "Now retrieving city #0: punta arenas\n",
      "http://api.openweathermap.org/data/2.5/weather?appid=480f9c5d42614026ec8d262bdebe16c9&units=imperial&q=punta arenas\n",
      "Now retrieving city #1: mansa\n",
      "http://api.openweathermap.org/data/2.5/weather?appid=480f9c5d42614026ec8d262bdebe16c9&units=imperial&q=mansa\n",
      "Now retrieving city #2: port-gentil\n",
      "http://api.openweathermap.org/data/2.5/weather?appid=480f9c5d42614026ec8d262bdebe16c9&units=imperial&q=port-gentil\n",
      "Now retrieving city #3: punta arenas\n",
      "http://api.openweathermap.org/data/2.5/weather?appid=480f9c5d42614026ec8d262bdebe16c9&units=imperial&q=punta arenas\n",
      "Now retrieving city #4: rikitea\n",
      "http://api.openweathermap.org/data/2.5/weather?appid=480f9c5d42614026ec8d262bdebe16c9&units=imperial&q=rikitea\n",
      "Now retrieving city #5: abilene\n",
      "http://api.openweathermap.org/data/2.5/weather?appid=480f9c5d42614026ec8d262bdebe16c9&units=imperial&q=abilene\n",
      "Now retrieving city #6: nabire\n",
      "http://api.openweathermap.org/data/2.5/weather?appid=480f9c5d42614026ec8d262bdebe16c9&units=imperial&q=nabire\n",
      "Now retrieving city #7: victoria\n",
      "http://api.openweathermap.org/data/2.5/weather?appid=480f9c5d42614026ec8d262bdebe16c9&units=imperial&q=victoria\n",
      "Now retrieving city #8: port hedland\n",
      "http://api.openweathermap.org/data/2.5/weather?appid=480f9c5d42614026ec8d262bdebe16c9&units=imperial&q=port hedland\n",
      "Now retrieving city #9: rikitea\n",
      "http://api.openweathermap.org/data/2.5/weather?appid=480f9c5d42614026ec8d262bdebe16c9&units=imperial&q=rikitea\n",
      "Now retrieving city #10: colmenar viejo\n",
      "http://api.openweathermap.org/data/2.5/weather?appid=480f9c5d42614026ec8d262bdebe16c9&units=imperial&q=colmenar viejo\n",
      "Now retrieving city #11: mataura\n",
      "http://api.openweathermap.org/data/2.5/weather?appid=480f9c5d42614026ec8d262bdebe16c9&units=imperial&q=mataura\n",
      "Now retrieving city #12: kavaratti\n",
      "http://api.openweathermap.org/data/2.5/weather?appid=480f9c5d42614026ec8d262bdebe16c9&units=imperial&q=kavaratti\n",
      "Now retrieving city #13: punta arenas\n",
      "http://api.openweathermap.org/data/2.5/weather?appid=480f9c5d42614026ec8d262bdebe16c9&units=imperial&q=punta arenas\n",
      "Now retrieving city #14: souillac\n",
      "http://api.openweathermap.org/data/2.5/weather?appid=480f9c5d42614026ec8d262bdebe16c9&units=imperial&q=souillac\n"
     ]
    },
    {
     "data": {
      "text/html": [
       "<div>\n",
       "<style>\n",
       "    .dataframe thead tr:only-child th {\n",
       "        text-align: right;\n",
       "    }\n",
       "\n",
       "    .dataframe thead th {\n",
       "        text-align: left;\n",
       "    }\n",
       "\n",
       "    .dataframe tbody tr th {\n",
       "        vertical-align: top;\n",
       "    }\n",
       "</style>\n",
       "<table border=\"1\" class=\"dataframe\">\n",
       "  <thead>\n",
       "    <tr style=\"text-align: right;\">\n",
       "      <th></th>\n",
       "      <th>Lat</th>\n",
       "      <th>Lng</th>\n",
       "      <th>City_Name</th>\n",
       "      <th>Temperature</th>\n",
       "      <th>Humidity</th>\n",
       "      <th>Cloudiness</th>\n",
       "      <th>Wind_Speed</th>\n",
       "    </tr>\n",
       "  </thead>\n",
       "  <tbody>\n",
       "    <tr>\n",
       "      <th>0</th>\n",
       "      <td>-74.275300</td>\n",
       "      <td>-93.193371</td>\n",
       "      <td>punta arenas</td>\n",
       "      <td>40.83</td>\n",
       "      <td>100</td>\n",
       "      <td>36</td>\n",
       "      <td>37.02</td>\n",
       "    </tr>\n",
       "    <tr>\n",
       "      <th>1</th>\n",
       "      <td>-11.179222</td>\n",
       "      <td>28.326064</td>\n",
       "      <td>mansa</td>\n",
       "      <td>53.65</td>\n",
       "      <td>76</td>\n",
       "      <td>0</td>\n",
       "      <td>5.93</td>\n",
       "    </tr>\n",
       "    <tr>\n",
       "      <th>2</th>\n",
       "      <td>-4.143961</td>\n",
       "      <td>2.975275</td>\n",
       "      <td>port-gentil</td>\n",
       "      <td>77</td>\n",
       "      <td>88</td>\n",
       "      <td>90</td>\n",
       "      <td>3.36</td>\n",
       "    </tr>\n",
       "    <tr>\n",
       "      <th>3</th>\n",
       "      <td>-88.910945</td>\n",
       "      <td>-92.555193</td>\n",
       "      <td>punta arenas</td>\n",
       "      <td>40.83</td>\n",
       "      <td>100</td>\n",
       "      <td>36</td>\n",
       "      <td>37.02</td>\n",
       "    </tr>\n",
       "    <tr>\n",
       "      <th>4</th>\n",
       "      <td>-46.090121</td>\n",
       "      <td>-114.734815</td>\n",
       "      <td>rikitea</td>\n",
       "      <td>73.18</td>\n",
       "      <td>100</td>\n",
       "      <td>48</td>\n",
       "      <td>18.45</td>\n",
       "    </tr>\n",
       "  </tbody>\n",
       "</table>\n",
       "</div>"
      ],
      "text/plain": [
       "         Lat         Lng     City_Name Temperature Humidity Cloudiness  \\\n",
       "0 -74.275300  -93.193371  punta arenas       40.83      100         36   \n",
       "1 -11.179222   28.326064         mansa       53.65       76          0   \n",
       "2  -4.143961    2.975275   port-gentil          77       88         90   \n",
       "3 -88.910945  -92.555193  punta arenas       40.83      100         36   \n",
       "4 -46.090121 -114.734815       rikitea       73.18      100         48   \n",
       "\n",
       "  Wind_Speed  \n",
       "0      37.02  \n",
       "1       5.93  \n",
       "2       3.36  \n",
       "3      37.02  \n",
       "4      18.45  "
      ]
     },
     "execution_count": 20,
     "metadata": {},
     "output_type": "execute_result"
    }
   ],
   "source": [
    "# Create empty column for desired data\n",
    "new_df[\"Temperature\"] = \"\"\n",
    "new_df[\"Humidity\"] = \"\"\n",
    "new_df[\"Cloudiness\"] = \"\"\n",
    "new_df[\"Wind_Speed\"] = \"\"\n",
    "units = \"imperial\"\n",
    "weather_data = []\n",
    "\n",
    "# Counter\n",
    "row_count = 0\n",
    "\n",
    "# Loop through and run Google search to get all banks in 5 mile radius (8000 meters)\n",
    "for index, row in new_df.iterrows():\n",
    "    \n",
    "    # Create endpoint url using Google Places Radar and the lat/lng we identified earlier\n",
    "    target_url = url + \"appid=\" + openweather_key + \"&units=\" + units + \"&q=\" + str(new_df.loc[index][\"City_Name\"])\n",
    "\n",
    "    # This link helps to handily see the JSON generated for each query\n",
    "    print(\"Now retrieving city #%s: %s\" % (row_count, new_df.loc[index][\"City_Name\"]))\n",
    "    row_count += 1 \n",
    "    print(target_url)\n",
    "    \n",
    "    # Run a request to grab the JSON at the target URL\n",
    "    response = requests.get(target_url).json()\n",
    "    weather_data.append(response)\n",
    "    \n",
    "    # Extract interesting data from responses\n",
    "    temp_data = [data.get(\"main\").get(\"temp\") for data in weather_data]\n",
    "    humidity_data = [data.get(\"main\").get(\"humidity\") for data in weather_data]\n",
    "    cloud_data = [data.get(\"clouds\").get(\"all\") for data in weather_data]\n",
    "    wind_data = [data.get(\"wind\").get(\"speed\") for data in weather_data]\n",
    "\n",
    "    \n",
    "    # Store the bank count into the Data Frame\n",
    "    new_df.set_value(index, \"Temperature\", temp_data[-1])\n",
    "    new_df.set_value(index, \"Humidity\", humidity_data[-1])\n",
    "    new_df.set_value(index, \"Cloudiness\", cloud_data[-1])\n",
    "    new_df.set_value(index, \"Wind_Speed\", wind_data[-1])\n",
    "\n",
    "    # Reset Counts\n",
    "    temp_data = []\n",
    "    humidity_data = []\n",
    "    cloud_data = []\n",
    "    wind_data = []\n",
    "    \n",
    "# Visualize\n",
    "new_df.head()"
   ]
  },
  {
   "cell_type": "code",
   "execution_count": 21,
   "metadata": {},
   "outputs": [
    {
     "data": {
      "image/png": "[encoded data removed]",
      "text/plain": [
       "<matplotlib.figure.Figure at 0x1965f7efe80>"
      ]
     },
     "metadata": {},
     "output_type": "display_data"
    }
   ],
   "source": [
    "# Build a scatter plot for each data type\n",
    "plt.scatter(new_df[\"Lat\"], new_df[\"Temperature\"], marker=\"o\")\n",
    "\n",
    "# Incorporate the other graph properties\n",
    "plt.title(\"City Latitude vs. Max Temperature\")\n",
    "plt.ylabel(\"Temperature\")\n",
    "plt.xlabel(\"Latitude\")\n",
    "plt.grid(True)\n",
    "\n",
    "\n",
    "# Show plot\n",
    "plt.show()"
   ]
  },
  {
   "cell_type": "code",
   "execution_count": 22,
   "metadata": {},
   "outputs": [
    {
     "data": {
      "image/png": "[encoded data removed]",
      "text/plain": [
       "<matplotlib.figure.Figure at 0x1965f9c1198>"
      ]
     },
     "metadata": {},
     "output_type": "display_data"
    }
   ],
   "source": [
    "# Build a scatter plot for each data type\n",
    "plt.scatter(new_df[\"Lat\"], new_df[\"Humidity\"], marker=\"o\")\n",
    "\n",
    "# Incorporate the other graph properties\n",
    "plt.title(\"City Latitude vs. Humidity\")\n",
    "plt.ylabel(\"Humidity\")\n",
    "plt.xlabel(\"Latitude\")\n",
    "plt.grid(True)\n",
    "\n",
    "\n",
    "# Show plot\n",
    "plt.show()"
   ]
  },
  {
   "cell_type": "code",
   "execution_count": 23,
   "metadata": {},
   "outputs": [
    {
     "data": {
      "image/png": "[encoded data removed]",
      "text/plain": [
       "<matplotlib.figure.Figure at 0x1965f987240>"
      ]
     },
     "metadata": {},
     "output_type": "display_data"
    }
   ],
   "source": [
    "# Build a scatter plot for each data type\n",
    "plt.scatter(new_df[\"Lat\"], new_df[\"Cloudiness\"], marker=\"o\")\n",
    "\n",
    "# Incorporate the other graph properties\n",
    "plt.title(\"City Latitude vs. Cloudiness\")\n",
    "plt.ylabel(\"Cloudiness\")\n",
    "plt.xlabel(\"Latitude\")\n",
    "plt.grid(True)\n",
    "\n",
    "\n",
    "# Show plot\n",
    "plt.show()"
   ]
  },
  {
   "cell_type": "code",
   "execution_count": 24,
   "metadata": {},
   "outputs": [
    {
     "data": {
      "image/png": "[encoded data removed]",
      "text/plain": [
       "<matplotlib.figure.Figure at 0x1965fe6be80>"
      ]
     },
     "metadata": {},
     "output_type": "display_data"
    }
   ],
   "source": [
    "# Build a scatter plot for each data type\n",
    "plt.scatter(new_df[\"Lat\"], new_df[\"Wind_Speed\"], marker=\"o\")\n",
    "\n",
    "# Incorporate the other graph properties\n",
    "plt.title(\"City Latitude vs. Wind Speed\")\n",
    "plt.ylabel(\"Wind Speed\")\n",
    "plt.xlabel(\"Latitude\")\n",
    "plt.grid(True)\n",
    "\n",
    "\n",
    "# Show plot\n",
    "plt.show()"
   ]
  }
 ],
 "metadata": {
  "kernelspec": {
   "display_name": "Python 3",
   "language": "python",
   "name": "python3"
  },
  "language_info": {
   "codemirror_mode": {
    "name": "ipython",
    "version": 3
   },
   "file_extension": ".py",
   "mimetype": "text/x-python",
   "name": "python",
   "nbconvert_exporter": "python",
   "pygments_lexer": "ipython3",
   "version": "3.6.2"
  }
 },
 "nbformat": 4,
 "nbformat_minor": 2
}
